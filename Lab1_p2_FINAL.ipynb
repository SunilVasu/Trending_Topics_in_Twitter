{
 "cells": [
  {
   "cell_type": "code",
   "execution_count": 1,
   "metadata": {
    "collapsed": false
   },
   "outputs": [
    {
     "name": "stderr",
     "output_type": "stream",
     "text": [
      "Loading required package: bitops\n"
     ]
    }
   ],
   "source": [
    "#CELL 1 - Installing packages and Loading packages\n",
    "library(twitteR)\n",
    "library(methods)\n",
    "library(ggplot2)\n",
    "library(maps)\n",
    "library(ggmap)\n",
    "library(RJSONIO)\n",
    "library(XML)\n",
    "library(RCurl)\n",
    "library(httr)"
   ]
  },
  {
   "cell_type": "code",
   "execution_count": 2,
   "metadata": {
    "collapsed": false
   },
   "outputs": [
    {
     "name": "stdout",
     "output_type": "stream",
     "text": [
      "[1] \"Using direct authentication\"\n",
      "Search Key:\t Buffalo"
     ]
    },
    {
     "name": "stderr",
     "output_type": "stream",
     "text": [
      "Information from URL : http://maps.googleapis.com/maps/api/geocode/json?address=Buffalo&sensor=false\n",
      "Warning message:\n",
      "“geocode failed with status OVER_QUERY_LIMIT, location = \"Buffalo\"”"
     ]
    },
    {
     "data": {
      "text/html": [
       "<table>\n",
       "<thead><tr><th scope=col>lon</th><th scope=col>lat</th></tr></thead>\n",
       "<tbody>\n",
       "\t<tr><td>NA</td><td>NA</td></tr>\n",
       "</tbody>\n",
       "</table>\n"
      ],
      "text/latex": [
       "\\begin{tabular}{r|ll}\n",
       " lon & lat\\\\\n",
       "\\hline\n",
       "\t NA & NA\\\\\n",
       "\\end{tabular}\n"
      ],
      "text/markdown": [
       "\n",
       "lon | lat | \n",
       "|---|\n",
       "| NA | NA | \n",
       "\n",
       "\n"
      ],
      "text/plain": [
       "  lon lat\n",
       "1 NA  NA "
      ]
     },
     "metadata": {},
     "output_type": "display_data"
    },
    {
     "ename": "ERROR",
     "evalue": "Error in twInterfaceObj$doAPICall(\"trends/closest\", params = params, ...): Bad Request (HTTP 400).\n",
     "output_type": "error",
     "traceback": [
      "Error in twInterfaceObj$doAPICall(\"trends/closest\", params = params, ...): Bad Request (HTTP 400).\nTraceback:\n",
      "1. closestTrendLocations(loc$lat, loc$lon)",
      "2. twInterfaceObj$doAPICall(\"trends/closest\", params = params, ...)",
      "3. stop_for_status(out)"
     ]
    }
   ],
   "source": [
    "#CELL 2 - Tweets are collected and trends are check for the user input location.\n",
    "#Widget is used for user input variable\n",
    "#sessionInfo()\n",
    "api_key <-  \"\"\n",
    "api_secret <- \"\"\n",
    "access_token <- \"-\"\n",
    "access_secret <- \"\"\n",
    "\n",
    "setup_twitter_oauth(api_key, api_secret, access_token, access_secret)\n",
    "#tweets <- searchTwitter('datascience',n=20)\n",
    "#head(tweets)\n",
    "\n",
    "#read from the txt file which the user inputs.\n",
    "#df <- read.table(\"searchKey_p2.txt\", header = FALSE)\n",
    "#key <- as.character(df$V1)\n",
    "\n",
    "#If widget is not to be used, please comment the adove 2 line and use the below one line with the variable\n",
    "key <- 'Buffalo'\n",
    "cat (\"Search Key:\\t\", key);\n",
    "\n",
    "loc <- geocode(key)\n",
    "loc\n",
    "close_trends = closestTrendLocations(loc$lat, loc$lon)\n",
    "close_trends\n",
    "trends <- getTrends(close_trends$woeid)\n",
    "trends\n",
    "\n",
    "trendTopic <- trends$name\n",
    "cat (\"\\n\\n*****************************************************\\nThe Trending Topics in \", key, \"are the following :\n",
    "*****************************************************\\n\");\n",
    "trendTopic"
   ]
  },
  {
   "cell_type": "code",
   "execution_count": null,
   "metadata": {
    "collapsed": true
   },
   "outputs": [],
   "source": []
  },
  {
   "cell_type": "code",
   "execution_count": null,
   "metadata": {
    "collapsed": true
   },
   "outputs": [],
   "source": []
  }
 ],
 "metadata": {
  "kernelspec": {
   "display_name": "R",
   "language": "R",
   "name": "ir"
  },
  "language_info": {
   "codemirror_mode": "r",
   "file_extension": ".r",
   "mimetype": "text/x-r-source",
   "name": "R",
   "pygments_lexer": "r",
   "version": "3.3.2"
  }
 },
 "nbformat": 4,
 "nbformat_minor": 2
}
